{
 "cells": [
  {
   "cell_type": "markdown",
   "metadata": {},
   "source": [
    "### Connect Four Project\n",
    "\n",
    "#### Player versus Player\n",
    "In this first section of our project we'll start by implementing the Player vs Player game option.\n",
    "\n"
   ]
  },
  {
   "cell_type": "markdown",
   "metadata": {},
   "source": [
    "First we initialize the grid and fill it with '-' as it is the default state"
   ]
  },
  {
   "cell_type": "code",
   "execution_count": 1,
   "metadata": {},
   "outputs": [],
   "source": [
    "#Explain board.py class"
   ]
  },
  {
   "cell_type": "markdown",
   "metadata": {},
   "source": [
    "#### A* Search Algorithm"
   ]
  },
  {
   "cell_type": "markdown",
   "metadata": {},
   "source": [
    "#### Overview:\n",
    "\n",
    "* A* is an informed search/best-first search algorithm\n",
    "\n",
    "    *  Formulated in terms of weighted graphs, starting from a specific node\n",
    "\n",
    "    *  Its goal is to find a path to the given goal node with the smallest cost\n",
    "\n",
    "\n",
    "\n"
   ]
  },
  {
   "cell_type": "markdown",
   "metadata": {},
   "source": [
    "#### Evaluation function:\n",
    "\n",
    "To determine which node should be expanded at each iteration in the main loop we need a function to to minimize the cost of the path:\n",
    "\n",
    "* ```f(n) = g(n) + h(n)```, where n represents the next node\n",
    "\n",
    "The 2 components of the f(n) function are:\n",
    "\n",
    "* ```g(n)```, that represents the cumulative cost of the path from the start node up until the current node\n",
    "\n",
    "* ```h(n)```, the heurist function that estimates the cost of the cheapest path from n to the goal node\n",
    "\n",
    "We'll be focusing on implementing the heuristic function (h(n)), that will be tailored to our Connect Four problem that has a specific evaluator"
   ]
  },
  {
   "cell_type": "markdown",
   "metadata": {},
   "source": [
    "#### Implementation\n",
    "\n",
    "* Data Structure:\n",
    "    * A* is typically implemented using a ```priority queue```  to perform repeated selection of minimum cost nodes to expand"
   ]
  },
  {
   "cell_type": "code",
   "execution_count": null,
   "metadata": {},
   "outputs": [],
   "source": []
  }
 ],
 "metadata": {
  "kernelspec": {
   "display_name": "base",
   "language": "python",
   "name": "python3"
  },
  "language_info": {
   "codemirror_mode": {
    "name": "ipython",
    "version": 3
   },
   "file_extension": ".py",
   "mimetype": "text/x-python",
   "name": "python",
   "nbconvert_exporter": "python",
   "pygments_lexer": "ipython3",
   "version": "3.11.7"
  }
 },
 "nbformat": 4,
 "nbformat_minor": 2
}

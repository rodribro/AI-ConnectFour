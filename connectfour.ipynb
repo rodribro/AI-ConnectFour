{
 "cells": [
  {
   "cell_type": "markdown",
   "metadata": {},
   "source": [
    "### Connect Four Project\n",
    "\n",
    "#### Player versus Player\n",
    "In this first section of our project we'll start by implementing the Player vs Player game option.\n",
    "\n"
   ]
  },
  {
   "cell_type": "markdown",
   "metadata": {},
   "source": []
  }
 ],
 "metadata": {
  "language_info": {
   "name": "python"
  }
 },
 "nbformat": 4,
 "nbformat_minor": 2
}
